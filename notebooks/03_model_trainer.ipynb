{
 "cells": [
  {
   "cell_type": "code",
   "execution_count": 1,
   "metadata": {},
   "outputs": [
    {
     "data": {
      "text/plain": [
       "'f:\\\\ml_projects\\\\helmet_detection_prediction\\\\notebooks'"
      ]
     },
     "execution_count": 1,
     "metadata": {},
     "output_type": "execute_result"
    }
   ],
   "source": [
    "import os\n",
    "%pwd"
   ]
  },
  {
   "cell_type": "code",
   "execution_count": 2,
   "metadata": {},
   "outputs": [
    {
     "data": {
      "text/plain": [
       "'f:\\\\ml_projects\\\\helmet_detection_prediction'"
      ]
     },
     "execution_count": 2,
     "metadata": {},
     "output_type": "execute_result"
    }
   ],
   "source": [
    "os.chdir(\"../\")\n",
    "%pwd"
   ]
  },
  {
   "cell_type": "code",
   "execution_count": 3,
   "metadata": {},
   "outputs": [],
   "source": [
    "from dataclasses import dataclass\n",
    "from pathlib import Path\n",
    "\n",
    "@dataclass(frozen=True)\n",
    "class ModelTrainerConfig:\n",
    "    root_dir:Path\n",
    "    model_pretrained_weight_name: str\n",
    "    dataset_yaml_file:Path\n",
    "    EPOCHS:int\n",
    "    BATCH_SIZE:int"
   ]
  },
  {
   "cell_type": "code",
   "execution_count": 4,
   "metadata": {},
   "outputs": [],
   "source": [
    "from pathlib import Path\n",
    "from Bike_helmet_detection.constants import *\n",
    "from Bike_helmet_detection.utils.common import read_yaml_file,create_directories\n",
    "\n",
    "class ConfigurationManager:\n",
    "    def __init__(self,config_filepath = CONFIG_FILEPATH) -> None:\n",
    "        self.config = read_yaml_file(config_filepath)\n",
    "        create_directories([self.config.artifacts_root])\n",
    "    \n",
    "    def get_model_trainer_config(self) -> ModelTrainerConfig:\n",
    "        temp_config = self.config.model_trainer\n",
    "        create_directories([temp_config.root_dir])\n",
    "\n",
    "        model_trainer_config = ModelTrainerConfig(\n",
    "            root_dir= Path(temp_config.root_dir),\n",
    "            model_pretrained_weight_name=temp_config.model_pretrained_weight_name,\n",
    "            dataset_yaml_file= Path(temp_config.dataset_yaml_file),\n",
    "            EPOCHS=temp_config.EPOCHS,\n",
    "            BATCH_SIZE= temp_config.BATCH_SIZE\n",
    "        )\n",
    "\n",
    "        return model_trainer_config"
   ]
  },
  {
   "cell_type": "code",
   "execution_count": 21,
   "metadata": {},
   "outputs": [],
   "source": [
    "import os\n",
    "from Bike_helmet_detection.utils.logger import logger\n",
    "from Bike_helmet_detection.constants import *\n",
    "from Bike_helmet_detection.utils.common import read_for_yolo,save_yaml,read_yaml_file\n",
    "from Bike_helmet_detection.entity.config_entity import ModelTrainerConfig\n",
    "import subprocess\n",
    "\n",
    "class ModelTrainer:\n",
    "    def __init__(self,config:ModelTrainerConfig) -> None:\n",
    "        self.model_trainer_config = config\n",
    "        self.data_ingestion_config = read_yaml_file(CONFIG_FILEPATH).data_ingestion\n",
    "        # self.data_ingestion_config = read_yaml(CONFIG_FILEPATH).data_ingestion\n",
    "    \n",
    "    def __clone_repository(self):\n",
    "        os.system(\"git clone https://github.com/ultralytics/yolov5.git\")\n",
    "\n",
    "    def __get_num_classes(self):\n",
    "        nc = read_for_yolo(self.model_trainer_config.dataset_yaml_file,check=\"nc\")\n",
    "        return nc\n",
    "\n",
    "    def initiate_model_training(self):\n",
    "        ###### Remove .git file from yolov5 manually using file explorer #######\n",
    "\n",
    "        num_classes = self.__get_num_classes()\n",
    "        logger.info('Got num_classes')\n",
    "\n",
    "        if not \"yolov5\" in os.listdir(os.getcwd()):\n",
    "            self.__clone_repository()\n",
    "            logger.info('Cloned Yolov5 repository')\n",
    "        else:\n",
    "            logger.info('Yolov5 repository is already exist..')\n",
    "        \n",
    "        model_name = self.model_trainer_config.model_pretrained_weight_name.split(\".\")[0]\n",
    "        yolo_model_config = read_for_yolo(f\"yolov5/models/{model_name}.yaml\")\n",
    "        yolo_model_config['nc'] = num_classes\n",
    "\n",
    "        save_yaml(f'yolov5/models/custom_{model_name}.yaml',yolo_model_config)\n",
    "        logger.info('Saved Custom Yolo config')\n",
    "\n",
    "        print(self.data_ingestion_config.local_data_file,os.getcwd())\n",
    "\n",
    "\n",
    "        ##>>>>>>>>>>>>>>>>>>>>>>> Use Git Bash for following Commands <<<<<<<<<<<<<<<<<<<<<<<<<<<<<\n",
    "        os.system(f\"cp {self.data_ingestion_config.local_data_file} {os.getcwd()}\")\n",
    "        os.system(f\"unzip data.zip\")\n",
    "\n",
    "\n",
    "        os.system(f\"cd yolov5/ && python train.py --img 416 --batch {self.model_trainer_config.BATCH_SIZE} --epochs {self.model_trainer_config.EPOCHS} --data ../data.yaml --cfg ./models/custom_yolov5s.yaml --weights {self.model_trainer_config.model_pretrained_weight_name} --name yolov5_results --cache\")\n",
    "        os.system(f\"cp yolov5/runs/train/yolov5_results/weights/best.pt {self.model_trainer_config.root_dir}\")\n",
    "\n",
    "        os.system(\"rm -rf test\")\n",
    "        os.system(\"rm -rf train\")\n",
    "        os.system(\"rm -rf valid\")\n",
    "        os.system(\"rm -rf data.yaml\")\n",
    "        os.system(\"rm -rf data.zip\")\n",
    "        os.system(\"rm -rf yolov5/runs\")   \n",
    "\n",
    "        logger.info('Model Training Completed')\n",
    "\n",
    "\n",
    "\n",
    "\n",
    "\n"
   ]
  },
  {
   "cell_type": "code",
   "execution_count": 22,
   "metadata": {},
   "outputs": [
    {
     "name": "stdout",
     "output_type": "stream",
     "text": [
      "f:\\ml_projects\\helmet_detection_prediction\n"
     ]
    }
   ],
   "source": [
    "print(os.getcwd())"
   ]
  },
  {
   "cell_type": "code",
   "execution_count": 23,
   "metadata": {},
   "outputs": [
    {
     "name": "stdout",
     "output_type": "stream",
     "text": [
      "nc = 2\n",
      "[ 2024-01-02 18:00:59,815 ] - 24 - 2178081381 - Got num_classes\n",
      "[ 2024-01-02 18:00:59,817 ] - 30 - 2178081381 - Yolov5 repository is already exist..\n",
      "[ 2024-01-02 18:00:59,869 ] - 38 - 2178081381 - Saved Custom Yolo config\n",
      "f:\\ml_projects\\helmet_detection_prediction\n",
      "unzipping Data\n"
     ]
    }
   ],
   "source": [
    "import sys\n",
    "from Bike_helmet_detection.utils.exception import CustomException\n",
    "try:\n",
    "    config = ConfigurationManager()\n",
    "    model_trainer_config = config.get_model_trainer_config()\n",
    "    model_trainer = ModelTrainer(model_trainer_config)\n",
    "    model_trainer.initiate_model_training()\n",
    "except Exception as e:\n",
    "    raise CustomException(e,sys)"
   ]
  },
  {
   "cell_type": "code",
   "execution_count": null,
   "metadata": {},
   "outputs": [],
   "source": []
  },
  {
   "cell_type": "code",
   "execution_count": null,
   "metadata": {},
   "outputs": [],
   "source": []
  }
 ],
 "metadata": {
  "kernelspec": {
   "display_name": "Python 3",
   "language": "python",
   "name": "python3"
  },
  "language_info": {
   "codemirror_mode": {
    "name": "ipython",
    "version": 3
   },
   "file_extension": ".py",
   "mimetype": "text/x-python",
   "name": "python",
   "nbconvert_exporter": "python",
   "pygments_lexer": "ipython3",
   "version": "3.9.0"
  }
 },
 "nbformat": 4,
 "nbformat_minor": 2
}
