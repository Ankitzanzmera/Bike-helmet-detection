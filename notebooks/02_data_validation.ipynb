{
 "cells": [
  {
   "cell_type": "code",
   "execution_count": 1,
   "metadata": {},
   "outputs": [
    {
     "data": {
      "text/plain": [
       "'f:\\\\ml_projects\\\\helmet_detection_prediction\\\\notebooks'"
      ]
     },
     "execution_count": 1,
     "metadata": {},
     "output_type": "execute_result"
    }
   ],
   "source": [
    "import os\n",
    "%pwd"
   ]
  },
  {
   "cell_type": "code",
   "execution_count": 2,
   "metadata": {},
   "outputs": [
    {
     "data": {
      "text/plain": [
       "'f:\\\\ml_projects\\\\helmet_detection_prediction'"
      ]
     },
     "execution_count": 2,
     "metadata": {},
     "output_type": "execute_result"
    }
   ],
   "source": [
    "os.chdir(\"../\")\n",
    "%pwd"
   ]
  },
  {
   "cell_type": "code",
   "execution_count": 3,
   "metadata": {},
   "outputs": [],
   "source": [
    "from dataclasses import dataclass\n",
    "from pathlib import Path\n",
    "\n",
    "@dataclass(frozen=True)\n",
    "class DataValidationConfig:\n",
    "    root_dir:Path\n",
    "    data_validation_status_file:Path\n",
    "    data_validation_required_file:list"
   ]
  },
  {
   "cell_type": "code",
   "execution_count": 4,
   "metadata": {},
   "outputs": [],
   "source": [
    "from Bike_helmet_detection.constants import *\n",
    "from Bike_helmet_detection.utils.common import read_yaml,create_directories\n",
    "\n",
    "class ConfigrationManager:\n",
    "    def __init__(self,config_filepath = CONFIG_FILEPATH) -> None:\n",
    "        self.config = read_yaml(config_filepath)\n",
    "        create_directories([self.config.artifacts_root])\n",
    "    \n",
    "    def get_data_validation_config(self) -> DataValidationConfig:\n",
    "        temp_config = self.config.data_validation\n",
    "        create_directories([temp_config.root_dir])\n",
    "\n",
    "        data_validation_config = DataValidationConfig(\n",
    "            root_dir= Path(temp_config.root_dir),\n",
    "            data_validation_status_file= Path(temp_config.data_validation_status_file),\n",
    "            data_validation_required_file= temp_config.data_validation_required_file\n",
    "        )\n",
    "\n",
    "        return data_validation_config\n",
    "\n"
   ]
  },
  {
   "cell_type": "code",
   "execution_count": 5,
   "metadata": {},
   "outputs": [],
   "source": [
    "import os,sys\n",
    "from Bike_helmet_detection.utils.logger import logger\n",
    "from Bike_helmet_detection.utils.exception import CustomException\n",
    "from Bike_helmet_detection.utils.common import read_yaml\n",
    "from Bike_helmet_detection.constants import *"
   ]
  },
  {
   "cell_type": "code",
   "execution_count": 55,
   "metadata": {},
   "outputs": [],
   "source": [
    "class DataValidation:\n",
    "    def __init__(self,data_validation_config:DataValidationConfig):\n",
    "        self.data_validation_config = data_validation_config\n",
    "        self.data_ingestion_config = read_yaml(CONFIG_FILEPATH).data_ingestion\n",
    "\n",
    "    def validate_all_file_exist(self) -> bool:\n",
    "        try:\n",
    "            validation_status = None\n",
    "            files_that_exists = os.listdir(self.data_ingestion_config.unzip_dir)\n",
    "            required_file_list = self.data_validation_config.data_validation_required_file\n",
    "            for file in required_file_list:\n",
    "                if file not in files_that_exists:\n",
    "                    validation_status  = False\n",
    "                    with open(self.data_validation_config.data_validation_status_file,'w') as f:\n",
    "                        f.write(f'Validation_status : {validation_status}')\n",
    "                else:\n",
    "                    validation_status  = True\n",
    "                    with open(self.data_validation_config.data_validation_status_file,'w') as f:\n",
    "                        f.write(f'Validation_status : {validation_status}')\n",
    "            return validation_status\n",
    "        except Exception as e:\n",
    "            raise CustomException(e,sys)"
   ]
  },
  {
   "cell_type": "code",
   "execution_count": 57,
   "metadata": {},
   "outputs": [
    {
     "name": "stdout",
     "output_type": "stream",
     "text": [
      "{'root_dir': 'artifacts/data_ingestion', 'source': 'https://drive.google.com/uc?id=1mFOfDcOlMbPRuSlDJOk1iQfYJtkPZliQ', 'local_data_file': 'artifacts/data_ingestion/data.zip', 'unzip_dir': 'artifacts/data_ingestion/helmet_data/'}\n",
      "done\n"
     ]
    }
   ],
   "source": [
    "try:\n",
    "    config = ConfigrationManager()\n",
    "    data_validation_config = config.get_data_validation_config()\n",
    "    data_validation = DataValidation(data_validation_config)\n",
    "    status = data_validation.validate_all_file_exist()\n",
    "    if status:\n",
    "        print('done')\n",
    "except Exception as e:\n",
    "    CustomException(e,sys)"
   ]
  },
  {
   "cell_type": "code",
   "execution_count": null,
   "metadata": {},
   "outputs": [],
   "source": []
  },
  {
   "cell_type": "code",
   "execution_count": null,
   "metadata": {},
   "outputs": [],
   "source": []
  }
 ],
 "metadata": {
  "kernelspec": {
   "display_name": "Python 3",
   "language": "python",
   "name": "python3"
  },
  "language_info": {
   "codemirror_mode": {
    "name": "ipython",
    "version": 3
   },
   "file_extension": ".py",
   "mimetype": "text/x-python",
   "name": "python",
   "nbconvert_exporter": "python",
   "pygments_lexer": "ipython3",
   "version": "3.9.0"
  }
 },
 "nbformat": 4,
 "nbformat_minor": 2
}
